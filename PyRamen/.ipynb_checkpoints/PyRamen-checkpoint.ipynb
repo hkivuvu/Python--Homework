{
 "cells": [
  {
   "cell_type": "code",
   "execution_count": 1,
   "id": "19e11bb3-a34f-4a8c-851d-1031ba9b7028",
   "metadata": {
    "tags": []
   },
   "outputs": [],
   "source": [
    "import pandas as pd\n"
   ]
  },
  {
   "cell_type": "code",
   "execution_count": 3,
   "id": "2f0c392b-ee6b-4f8e-a081-a55cb4cead5f",
   "metadata": {
    "tags": []
   },
   "outputs": [],
   "source": [
    "Sales_data=pd.read_csv(\"sales_data.csv\")"
   ]
  },
  {
   "cell_type": "code",
   "execution_count": 5,
   "id": "459d8661-7abf-45aa-b47c-59d5a461b109",
   "metadata": {
    "tags": []
   },
   "outputs": [],
   "source": [
    "Menu_data=pd.read_csv(\"menu_data.csv\")"
   ]
  },
  {
   "cell_type": "code",
   "execution_count": 9,
   "id": "510a83f7-7adf-4442-b803-7c0aae74cfdd",
   "metadata": {
    "tags": []
   },
   "outputs": [
    {
     "name": "stdout",
     "output_type": "stream",
     "text": [
      "item\n",
      "category\n",
      "description\n",
      "price\n",
      "cost\n"
     ]
    }
   ],
   "source": [
    "for i in Menu_data:\n",
    "    print(i)"
   ]
  },
  {
   "cell_type": "code",
   "execution_count": 16,
   "id": "abcf5ef7-0448-47a3-b65a-f2d16097ed48",
   "metadata": {
    "tags": []
   },
   "outputs": [],
   "source": [
    "X=Sales_data[\"Menu_Item\"].drop_duplicates()"
   ]
  },
  {
   "cell_type": "code",
   "execution_count": 34,
   "id": "1c1e8404-5005-4598-860e-965af937971e",
   "metadata": {
    "tags": []
   },
   "outputs": [
    {
     "name": "stdout",
     "output_type": "stream",
     "text": [
      "['spicy miso ramen', 'tori paitan ramen', 'truffle butter ramen', 'tonkotsu ramen', 'vegetarian spicy miso', 'shio ramen', 'miso crab ramen', 'nagomi shoyu', 'soft-shell miso crab ramen', 'burnt garlic tonkotsu ramen', 'vegetarian curry + king trumpet mushroom ramen']\n"
     ]
    }
   ],
   "source": [
    "ramen_type=[]\n",
    "for t in X:\n",
    "    ramen_type.append(t)\n",
    "print(ramen_type)"
   ]
  },
  {
   "cell_type": "code",
   "execution_count": 64,
   "id": "19513787-f82f-4de1-90ef-b6ebbd861349",
   "metadata": {
    "tags": []
   },
   "outputs": [
    {
     "name": "stdout",
     "output_type": "stream",
     "text": [
      "[9238, 9156, 8982, 9288, 9216, 9180, 8890, 9132, 9130, 9070, 8824]\n"
     ]
    }
   ],
   "source": [
    "Quantity_ramen_type = []\n",
    "\n",
    "for i in ramen_type:\n",
    "    Y=Sales_data[\"Quantity\"][Sales_data[\"Menu_Item\"]==i]\n",
    "    Quantity_ramen_type.append(int(Y.sum()))\n",
    "print(Quantity_ramen_type)\n"
   ]
  },
  {
   "cell_type": "code",
   "execution_count": 140,
   "id": "7f4b1dd1-351b-4560-9ad2-1b870e0a3ef5",
   "metadata": {
    "tags": []
   },
   "outputs": [
    {
     "name": "stdout",
     "output_type": "stream",
     "text": [
      "[64666.0, 64092.0, 62874.0, 65016.0, 64512.0, 55080.0, 53340.0, 54792.0, 63910.0, 72560.0, 52944.0]\n"
     ]
    }
   ],
   "source": [
    "cost_list = []\n",
    "revenue_list = []\n",
    "a = 0\n",
    "for Z in ramen_type:\n",
    "    Revenue = Menu_data['price'][Menu_data['item']==Z].values[0]*Quantity_ramen_type[a]\n",
    "    Cost = Menu_data['cost'][Menu_data['item']==Z].values[0]*Quantity_ramen_type[a]\n",
    "    cost_list.append(Cost)\n",
    "    revenue_list.append(Revenue)\n",
    "    a+=1\n",
    "\n",
    "profit_list=[]\n",
    "for t in range(len(price_list)):\n",
    "    profit = price_list[t]-cost_list[t]\n",
    "    profit_list.append(profit)\n",
    "print(profit_list)\n"
   ]
  },
  {
   "cell_type": "code",
   "execution_count": 142,
   "id": "797e6374-847b-4f2c-920b-4f75c890d059",
   "metadata": {
    "tags": []
   },
   "outputs": [],
   "source": [
    "ramen_revenue_profit_data = {'Type': ramen_type,\n",
    "                             'Quantity': Quantity_ramen_type,\n",
    "                            'Revenue': revenue_list,\n",
    "                            'Total_Cost': cost_list,\n",
    "                            'Profit': profit_list}"
   ]
  },
  {
   "cell_type": "code",
   "execution_count": 144,
   "id": "d73e0703-d640-406b-a376-3c38d2305f61",
   "metadata": {
    "tags": []
   },
   "outputs": [],
   "source": [
    "ramen_revenue_profit_data_csv = pd.DataFrame(ramen_revenue_profit_data)"
   ]
  },
  {
   "cell_type": "code",
   "execution_count": 146,
   "id": "936a88bd-c2d7-4e75-8d14-42d6a535bce1",
   "metadata": {
    "tags": []
   },
   "outputs": [],
   "source": [
    "ramen_revenue_profit_data_csv.to_csv('Ramen_profit_revenue.csv', index=False)"
   ]
  },
  {
   "cell_type": "code",
   "execution_count": null,
   "id": "e6f19167-72d8-47c1-a6c6-75e71425964d",
   "metadata": {},
   "outputs": [],
   "source": []
  }
 ],
 "metadata": {
  "kernelspec": {
   "display_name": "Python 3 (ipykernel)",
   "language": "python",
   "name": "python3"
  },
  "language_info": {
   "codemirror_mode": {
    "name": "ipython",
    "version": 3
   },
   "file_extension": ".py",
   "mimetype": "text/x-python",
   "name": "python",
   "nbconvert_exporter": "python",
   "pygments_lexer": "ipython3",
   "version": "3.11.5"
  }
 },
 "nbformat": 4,
 "nbformat_minor": 5
}
