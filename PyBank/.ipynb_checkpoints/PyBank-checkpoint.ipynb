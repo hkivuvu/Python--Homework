{
 "cells": [
  {
   "cell_type": "code",
   "execution_count": 7,
   "id": "b49a4517-2af7-4c9b-8477-56543ee4fbe8",
   "metadata": {
    "tags": []
   },
   "outputs": [],
   "source": [
    "import pandas as pd"
   ]
  },
  {
   "cell_type": "code",
   "execution_count": 9,
   "id": "c81fbee0-54ae-4589-bf11-b9ac3392ff69",
   "metadata": {
    "tags": []
   },
   "outputs": [],
   "source": [
    "fdata = pd.read_csv(\"budget_data.csv\")"
   ]
  },
  {
   "cell_type": "code",
   "execution_count": 11,
   "id": "c091041d-18da-43ae-a32c-58f62d1ee085",
   "metadata": {
    "tags": []
   },
   "outputs": [
    {
     "data": {
      "text/plain": [
       "(86, 2)"
      ]
     },
     "execution_count": 11,
     "metadata": {},
     "output_type": "execute_result"
    }
   ],
   "source": [
    "fdata.shape"
   ]
  },
  {
   "cell_type": "code",
   "execution_count": 22,
   "id": "077d142a-3bd1-4a93-a60d-8577324a0a30",
   "metadata": {
    "tags": []
   },
   "outputs": [
    {
     "data": {
      "text/plain": [
       "<bound method DataFrame.info of         Date  Profit/Losses\n",
       "0   Jan-2010         867884\n",
       "1   Feb-2010         984655\n",
       "2   Mar-2010         322013\n",
       "3   Apr-2010         -69417\n",
       "4   May-2010         310503\n",
       "..       ...            ...\n",
       "81  Oct-2016         102685\n",
       "82  Nov-2016         795914\n",
       "83  Dec-2016          60988\n",
       "84  Jan-2017         138230\n",
       "85  Feb-2017         671099\n",
       "\n",
       "[86 rows x 2 columns]>"
      ]
     },
     "execution_count": 22,
     "metadata": {},
     "output_type": "execute_result"
    }
   ],
   "source": [
    "fdata.info"
   ]
  },
  {
   "cell_type": "code",
   "execution_count": 36,
   "id": "e605227e-384b-42d2-a012-e1291e0b5a76",
   "metadata": {
    "tags": []
   },
   "outputs": [],
   "source": [
    "Profit_Loss = fdata[\"Profit/Losses\"]"
   ]
  },
  {
   "cell_type": "code",
   "execution_count": 38,
   "id": "cbb37e5a-407b-4235-8fa8-78964252c319",
   "metadata": {
    "tags": []
   },
   "outputs": [
    {
     "data": {
      "text/plain": [
       "38382578"
      ]
     },
     "execution_count": 38,
     "metadata": {},
     "output_type": "execute_result"
    }
   ],
   "source": [
    "Profit_Loss.sum()"
   ]
  },
  {
   "cell_type": "code",
   "execution_count": 120,
   "id": "1c71de01-0a05-427a-be17-03cffb68309d",
   "metadata": {
    "tags": []
   },
   "outputs": [
    {
     "name": "stdout",
     "output_type": "stream",
     "text": [
      "$-2315.12\n"
     ]
    }
   ],
   "source": [
    "a = 0\n",
    "list_changes=[]\n",
    "\n",
    "for i in Profit_Loss:\n",
    "    if a == 0:\n",
    "        a+=1\n",
    "        list_changes.append(0)\n",
    "    else: \n",
    "        changes = i - Profit_Loss[a-1]\n",
    "        a+=1\n",
    "        list_changes.append(changes)\n",
    "\n",
    "round(sum(list_changes)/(len(list_changes)-1), 2)\n",
    "print(f\"${round(sum(list_changes)/(len(list_changes)-1), 2)}\")\n",
    "    "
   ]
  },
  {
   "cell_type": "code",
   "execution_count": 78,
   "id": "f6aa19e1-b55e-4cff-a83f-847ef9caf166",
   "metadata": {
    "tags": []
   },
   "outputs": [],
   "source": [
    "fdata[\"fchanges\"]=list_changes"
   ]
  },
  {
   "cell_type": "code",
   "execution_count": 80,
   "id": "b727dcb4-6a9f-4456-b837-59d086a85b2b",
   "metadata": {
    "tags": []
   },
   "outputs": [
    {
     "data": {
      "text/html": [
       "<div>\n",
       "<style scoped>\n",
       "    .dataframe tbody tr th:only-of-type {\n",
       "        vertical-align: middle;\n",
       "    }\n",
       "\n",
       "    .dataframe tbody tr th {\n",
       "        vertical-align: top;\n",
       "    }\n",
       "\n",
       "    .dataframe thead th {\n",
       "        text-align: right;\n",
       "    }\n",
       "</style>\n",
       "<table border=\"1\" class=\"dataframe\">\n",
       "  <thead>\n",
       "    <tr style=\"text-align: right;\">\n",
       "      <th></th>\n",
       "      <th>Date</th>\n",
       "      <th>Profit/Losses</th>\n",
       "      <th>fchanges</th>\n",
       "    </tr>\n",
       "  </thead>\n",
       "  <tbody>\n",
       "    <tr>\n",
       "      <th>0</th>\n",
       "      <td>Jan-2010</td>\n",
       "      <td>867884</td>\n",
       "      <td>0</td>\n",
       "    </tr>\n",
       "    <tr>\n",
       "      <th>1</th>\n",
       "      <td>Feb-2010</td>\n",
       "      <td>984655</td>\n",
       "      <td>116771</td>\n",
       "    </tr>\n",
       "    <tr>\n",
       "      <th>2</th>\n",
       "      <td>Mar-2010</td>\n",
       "      <td>322013</td>\n",
       "      <td>-662642</td>\n",
       "    </tr>\n",
       "    <tr>\n",
       "      <th>3</th>\n",
       "      <td>Apr-2010</td>\n",
       "      <td>-69417</td>\n",
       "      <td>-391430</td>\n",
       "    </tr>\n",
       "    <tr>\n",
       "      <th>4</th>\n",
       "      <td>May-2010</td>\n",
       "      <td>310503</td>\n",
       "      <td>379920</td>\n",
       "    </tr>\n",
       "  </tbody>\n",
       "</table>\n",
       "</div>"
      ],
      "text/plain": [
       "       Date  Profit/Losses  fchanges\n",
       "0  Jan-2010         867884         0\n",
       "1  Feb-2010         984655    116771\n",
       "2  Mar-2010         322013   -662642\n",
       "3  Apr-2010         -69417   -391430\n",
       "4  May-2010         310503    379920"
      ]
     },
     "execution_count": 80,
     "metadata": {},
     "output_type": "execute_result"
    }
   ],
   "source": [
    "fdata.head()"
   ]
  },
  {
   "cell_type": "code",
   "execution_count": 110,
   "id": "80c82e18-65ad-42f7-84cb-17fe9b574196",
   "metadata": {
    "tags": []
   },
   "outputs": [],
   "source": [
    "greatest_loc = fdata[\"fchanges\"].idxmax()\n"
   ]
  },
  {
   "cell_type": "code",
   "execution_count": 118,
   "id": "89359b80-0426-48ea-9242-c6eb48343538",
   "metadata": {
    "tags": []
   },
   "outputs": [
    {
     "name": "stdout",
     "output_type": "stream",
     "text": [
      "Feb-2012: $1926159\n"
     ]
    }
   ],
   "source": [
    "print(f'{fdata.loc[greatest_loc][\"Date\"]}: ${fdata.loc[greatest_loc][\"fchanges\"]}')"
   ]
  },
  {
   "cell_type": "code",
   "execution_count": 116,
   "id": "3d197fc8-52f9-4c0a-ba58-ecf531aaa7b9",
   "metadata": {
    "tags": []
   },
   "outputs": [
    {
     "name": "stdout",
     "output_type": "stream",
     "text": [
      "Sep-2013: $-2196167\n"
     ]
    }
   ],
   "source": [
    "lowest_loc = fdata[\"fchanges\"].idxmin()\n",
    "print(f'{fdata.loc[lowest_loc][\"Date\"]}: ${fdata.loc[lowest_loc][\"fchanges\"]}')"
   ]
  },
  {
   "cell_type": "code",
   "execution_count": null,
   "id": "a5e765fc-b162-4615-873b-bf45cdedcd6e",
   "metadata": {},
   "outputs": [],
   "source": []
  }
 ],
 "metadata": {
  "kernelspec": {
   "display_name": "Python 3 (ipykernel)",
   "language": "python",
   "name": "python3"
  },
  "language_info": {
   "codemirror_mode": {
    "name": "ipython",
    "version": 3
   },
   "file_extension": ".py",
   "mimetype": "text/x-python",
   "name": "python",
   "nbconvert_exporter": "python",
   "pygments_lexer": "ipython3",
   "version": "3.11.5"
  }
 },
 "nbformat": 4,
 "nbformat_minor": 5
}
